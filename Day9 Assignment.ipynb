{
 "cells": [
  {
   "cell_type": "code",
   "execution_count": 25,
   "metadata": {},
   "outputs": [
    {
     "name": "stdout",
     "output_type": "stream",
     "text": [
      "Overwriting somecode.py\n"
     ]
    }
   ],
   "source": [
    "###Day 9 Assignemnt 1 ###\n",
    "\n",
    "%%writefile somecode.py\n",
    "\n",
    "\"\"\" This is nonses \"\"\"\n",
    "def prime():\n",
    "    \"\"\" Hey this is Prime Number\"\"\"\n",
    "    num = 17\n",
    "    if num > 2:\n",
    "        for i in range(2, num):\n",
    "            if (num%i) == 0:\n",
    "                print(\"not prime\")\n",
    "            else:\n",
    "                print(\"its prime\")\n",
    "prime()\n"
   ]
  },
  {
   "cell_type": "code",
   "execution_count": 26,
   "metadata": {},
   "outputs": [
    {
     "name": "stdout",
     "output_type": "stream",
     "text": [
      "\n",
      "--------------------------------------------------------------------\n",
      "\n",
      "Your code has been rated at 10.00/10 (previous run: 10.00/10, +0.00)\n",
      "\n",
      "\n",
      "\n"
     ]
    }
   ],
   "source": [
    "! pylint \"somecode\""
   ]
  },
  {
   "cell_type": "code",
   "execution_count": 34,
   "metadata": {},
   "outputs": [
    {
     "name": "stdout",
     "output_type": "stream",
     "text": [
      "153\n",
      "370\n",
      "371\n",
      "407\n"
     ]
    }
   ],
   "source": [
    "### Day9 Assignment 2 ###\n",
    "lower = 100\n",
    "upper = 500\n",
    "\n",
    "def gen():\n",
    "    for num in range(lower, upper + 1):\n",
    "        order = len(str(num))\n",
    "        sum = 0\n",
    "\n",
    "        temp = num\n",
    "        while temp > 0:\n",
    "            digit = temp % 10\n",
    "            sum += digit ** order\n",
    "            temp //= 10\n",
    "\n",
    "\n",
    "        if num == sum:\n",
    "            yield num\n",
    "g=gen()\n",
    "print(g.__next__())\n",
    "print(g.__next__())\n",
    "print(g.__next__())\n",
    "print(g.__next__())"
   ]
  },
  {
   "cell_type": "code",
   "execution_count": null,
   "metadata": {},
   "outputs": [],
   "source": []
  }
 ],
 "metadata": {
  "kernelspec": {
   "display_name": "Python 3",
   "language": "python",
   "name": "python3"
  },
  "language_info": {
   "codemirror_mode": {
    "name": "ipython",
    "version": 3
   },
   "file_extension": ".py",
   "mimetype": "text/x-python",
   "name": "python",
   "nbconvert_exporter": "python",
   "pygments_lexer": "ipython3",
   "version": "3.8.3"
  }
 },
 "nbformat": 4,
 "nbformat_minor": 4
}
