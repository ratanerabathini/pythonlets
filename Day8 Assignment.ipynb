{
 "cells": [
  {
   "cell_type": "code",
   "execution_count": 1,
   "metadata": {},
   "outputs": [
    {
     "name": "stdout",
     "output_type": "stream",
     "text": [
      "Inside check to Even/Odd\n",
      "the no is= 10\n",
      "It is Even\n"
     ]
    }
   ],
   "source": [
    "### Day8 Assignment 1 ###\n",
    "def dec(fun):\n",
    "    def ano(n):\n",
    "        print(\"Inside check to Even/Odd\")\n",
    "        if n%2==0:\n",
    "            ret=\"Even\"\n",
    "        else:\n",
    "            ret=\"Odd\"\n",
    "\n",
    "        fun(n)\n",
    "        return ret\n",
    "    return ano\n",
    "\n",
    "\n",
    "def Eodd(x):\n",
    "    print(\"the no is=\",x)\n",
    "Eodd=dec(Eodd)\n",
    "no=10\n",
    "print(\"It is\",Eodd(no))\n"
   ]
  },
  {
   "cell_type": "code",
   "execution_count": 2,
   "metadata": {},
   "outputs": [
    {
     "name": "stdout",
     "output_type": "stream",
     "text": [
      "['Vinod is Hero\\n', 'Vinod Adep\\n', 'Python Developer\\n']\n",
      "Exception Handled\n"
     ]
    }
   ],
   "source": [
    "### Day8 Assignment 2 ###\n",
    "fi=open(\"Vinod2.txt\",\"r\")\n",
    "print(fi.readlines())\n",
    "\n",
    "try:\n",
    "    fi.write(\"Mr.Stud\\n\")\n",
    "except:\n",
    "    print(\"Exception Handled\")\n"
   ]
  },
  {
   "cell_type": "code",
   "execution_count": null,
   "metadata": {},
   "outputs": [],
   "source": []
  }
 ],
 "metadata": {
  "kernelspec": {
   "display_name": "Python 3",
   "language": "python",
   "name": "python3"
  },
  "language_info": {
   "codemirror_mode": {
    "name": "ipython",
    "version": 3
   },
   "file_extension": ".py",
   "mimetype": "text/x-python",
   "name": "python",
   "nbconvert_exporter": "python",
   "pygments_lexer": "ipython3",
   "version": "3.8.3"
  }
 },
 "nbformat": 4,
 "nbformat_minor": 4
}
